{
 "cells": [
  {
   "cell_type": "code",
   "execution_count": 2,
   "id": "0e7eccdb-e7f4-495f-8c0f-71f31081c373",
   "metadata": {},
   "outputs": [],
   "source": [
    "import pandas as pd\n",
    "from transformers import pipeline\n",
    "import torch"
   ]
  },
  {
   "cell_type": "code",
   "execution_count": 4,
   "id": "4f130fe4-f589-4c5d-a7f2-c5866e91bae0",
   "metadata": {},
   "outputs": [
    {
     "name": "stdout",
     "output_type": "stream",
     "text": [
      "                                             comment sentiment_score  \\\n",
      "0  I don't recommend internship or work with this...          1 star   \n",
      "1                                   Congratulations!         5 stars   \n",
      "2                                       Congrats! 👏🏻         5 stars   \n",
      "3                                Congratulations! 👏          5 stars   \n",
      "4  I don't recommend internship or work with this...          1 star   \n",
      "\n",
      "   confidence  \n",
      "0    0.896431  \n",
      "1    0.647526  \n",
      "2    0.369869  \n",
      "3    0.626105  \n",
      "4    0.896431  \n",
      "Sentiment score: 5 stars, Confidence: 0.896528959274292\n"
     ]
    }
   ],
   "source": [
    "def comment_to_rating(company='caustaza'):\n",
    "    # Load your raw comments dataset (assuming it's a CSV file with a column 'comment')\n",
    "    data = pd.read_csv(f'data/{company}_comments.csv')\n",
    "    \n",
    "    # Initialize sentiment-analysis pipeline using a pre-trained model\n",
    "    sentiment_pipeline = pipeline('sentiment-analysis', model='nlptown/bert-base-multilingual-uncased-sentiment')\n",
    "    \n",
    "    # Function to classify sentiment of a comment\n",
    "    def classify_comment(comment):\n",
    "        result = sentiment_pipeline(comment)[0]\n",
    "        label = result['label']\n",
    "        score = result['score']\n",
    "        return label, score\n",
    "    \n",
    "    # Apply the classification function to all comments\n",
    "    data['sentiment_score'], data['confidence'] = zip(*data['comment'].apply(classify_comment))\n",
    "    \n",
    "    # Display the results\n",
    "    print(data.head())\n",
    "    \n",
    "    # Save results\n",
    "    data.to_csv(f'data/{company}_ratings.csv')"
   ]
  }
 ],
 "metadata": {
  "kernelspec": {
   "display_name": "Python 3 (ipykernel)",
   "language": "python",
   "name": "python3"
  },
  "language_info": {
   "codemirror_mode": {
    "name": "ipython",
    "version": 3
   },
   "file_extension": ".py",
   "mimetype": "text/x-python",
   "name": "python",
   "nbconvert_exporter": "python",
   "pygments_lexer": "ipython3",
   "version": "3.12.3"
  }
 },
 "nbformat": 4,
 "nbformat_minor": 5
}
