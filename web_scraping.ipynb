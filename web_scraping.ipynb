{
 "cells": [
  {
   "cell_type": "markdown",
   "id": "82bf1c03-ab84-425f-b55a-9eb7449e6d4f",
   "metadata": {},
   "source": [
    "# Imports"
   ]
  },
  {
   "cell_type": "code",
   "execution_count": 1,
   "id": "c2806245",
   "metadata": {},
   "outputs": [],
   "source": [
    "import selenium\n",
    "from selenium import webdriver\n",
    "from selenium.webdriver.edge.service import Service \n",
    "from selenium.webdriver.edge.options import Options\n",
    "from selenium.webdriver.common.by import By\n",
    "from selenium.webdriver.common.keys import Keys\n",
    "from selenium.common.exceptions import NoSuchElementException, ElementClickInterceptedException, StaleElementReferenceException\n",
    "from bs4 import BeautifulSoup\n",
    "import time\n",
    "from tqdm.notebook import tqdm\n",
    "\n",
    "import numpy as np\n",
    "import pandas as pd"
   ]
  },
  {
   "cell_type": "markdown",
   "id": "08a9aee4-d966-4e58-b8ea-95a8aff157a4",
   "metadata": {},
   "source": [
    "# Scraping"
   ]
  },
  {
   "cell_type": "code",
   "execution_count": null,
   "id": "77ff33ab-650e-42a7-9637-819453026244",
   "metadata": {},
   "outputs": [],
   "source": [
    "companies = ['pwc', 'meta', 'google', 'infor', 'caustaza', 'sofrecom-tunisie', 'sofrecom']"
   ]
  },
  {
   "cell_type": "markdown",
   "id": "77b3316c-da0a-4b44-9193-cf234a7634c4",
   "metadata": {},
   "source": [
    "## From linkedin"
   ]
  },
  {
   "cell_type": "code",
   "execution_count": null,
   "id": "2318e56b-74be-4a7a-9ad0-384fcbe5129d",
   "metadata": {},
   "outputs": [],
   "source": [
    "def scrape_from_linkedin(company='caustaza', edgedriver_path = r'C:\\Users\\G5\\Downloads\\edgedriver_win64\\msedgedriver.exe', email='mohamedomarsohnoon@gmail.com', password='', MAX_COUNT=20):\n",
    "    # Set up Edge options \n",
    "    edge_options = Options()\n",
    "    edge_options.use_chromium = True  # Ensure you're using the Chromium version of Edge\n",
    "    edge_options.add_argument('--no-sandbox')\n",
    "\n",
    "    # Set up the Edge service\n",
    "    edge_service = Service(executable_path=edgedriver_path)\n",
    "    \n",
    "    # Initialize WebDriver\n",
    "    driver = webdriver.Edge(service=edge_service, options=edge_options)\n",
    "\n",
    "    # Open a website\n",
    "    url = 'https://www.linkedin.com/company/'+company+'/posts/?feedView=all'\n",
    "    driver.get(url)\n",
    "    \n",
    "    #sign in\n",
    "    email_field = driver.find_element(by=By.ID, value='username')\n",
    "    email_field.send_keys(email)\n",
    "    password_field = driver.find_element(by=By.ID, value='password')\n",
    "    password_field.send_keys(password)\n",
    "    submit_button = driver.find_element(by=By.CSS_SELECTOR, value='.btn__primary--large.from__button--floating')\n",
    "    submit_button.click()\n",
    "\n",
    "    time.sleep(10)\n",
    "\n",
    "    #load more posts\n",
    "    count = 0\n",
    "    while(1):\n",
    "        try:\n",
    "            scroll_button = driver.find_element(By.CSS_SELECTOR, '.artdeco-button.artdeco-button--muted.artdeco-button--1.artdeco-button--full.artdeco-button--secondary.ember-view.scaffold-finite-scroll__load-button')\n",
    "            for i in range(5):\n",
    "                try:\n",
    "                    scroll_button.click()\n",
    "                    count +=1 \n",
    "                except(StaleElementReferenceException):\n",
    "                    pass\n",
    "            time.sleep(5)\n",
    "        except(NoSuchElementException):\n",
    "            break\n",
    "        if (count == MAX_COUNT): \n",
    "            break\n",
    "\n",
    "    container = driver.find_element(by=By.CSS_SELECTOR, value='.scaffold-finite-scroll__content')\n",
    "    posts = container.find_elements(By.CSS_SELECTOR, '.ember-view.occludable-update')\n",
    "    print(f'Number of posts: {len(posts)}'\n",
    "\n",
    "    #scrape comments\n",
    "    all_comments = []\n",
    "    for post in tqdm(posts):\n",
    "        buttons = post.find_elements(by=By.TAG_NAME, value='button')\n",
    "        buttons_text = [button.text for button in buttons]\n",
    "        comment_button_index = None\n",
    "        for i in range(len(buttons)):\n",
    "            if(buttons_text[i] == 'Comment'): \n",
    "                comment_button_index = i\n",
    "                break\n",
    "        if(comment_button_index != None): \n",
    "            time.sleep(3)\n",
    "            comment_button = buttons[comment_button_index]\n",
    "            for i in range(5):\n",
    "                try: \n",
    "                    comment_button.click()\n",
    "                    comments_section = post.find_element(By.CSS_SELECTOR, '.update-v2-social-activity')\n",
    "                    try:\n",
    "                        comments = comments_section.find_elements(By.CSS_SELECTOR, '.comments-comment-item-content-body.break-words')\n",
    "                        comments_text = [comment.text for comment in comments]\n",
    "                        all_comments.extend(comments_text)\n",
    "                    except(NoSuchElementException):\n",
    "                        pass\n",
    "                    break\n",
    "                except(ElementClickInterceptedException):\n",
    "                    time.sleep(1)\n",
    "    print(f'Comments count: {len(all_comments}')\n",
    "    #save comments to a dataframe\n",
    "    df = pd.DataFrame({'comment':all_comments})\n",
    "    df.to_csv(f'data/{company}_linkedin_comments.csv', index=False)\n",
    "    print('Comments saved successfully!')\n",
    "    print(df.sample(10))\n",
    "    driver.close()"
   ]
  },
  {
   "cell_type": "code",
   "execution_count": null,
   "id": "8fd62a37-7334-4153-86df-a564570053bd",
   "metadata": {},
   "outputs": [],
   "source": [
    "def scrape_all_from_linkedin(companies=companies):\n",
    "    for company in tqdm(companies):\n",
    "        scrape_from_linkedin(company=company)"
   ]
  },
  {
   "cell_type": "code",
   "execution_count": 13,
   "id": "0285ae80-569e-4627-b584-289ea1e3cc0a",
   "metadata": {},
   "outputs": [
    {
     "data": {
      "text/plain": [
       "'.x1n2onr6.x1ja2u2z.x78zum5.x2lah0s.xl56j7k.x6s0dn4.xozqiw3.x1q0g3np.xi112ho.x17zwfj4.x585lrc.x1403ito.x972fbf.xcfux6l.x1qhh985.xm0m39n.x9f619.xn6708d.x1ye3gou.xtvsq51.x1fq8qgq'"
      ]
     },
     "execution_count": 13,
     "metadata": {},
     "output_type": "execute_result"
    }
   ],
   "source": []
  },
  {
   "cell_type": "markdown",
   "id": "622264a9-5aca-4d26-9f09-061e08cb1916",
   "metadata": {},
   "source": [
    "## From Facebook"
   ]
  },
  {
   "cell_type": "code",
   "execution_count": 93,
   "id": "4b6aa803-14c8-4f44-b950-7d31a9466cdd",
   "metadata": {},
   "outputs": [],
   "source": [
    "def scrape_from_facebook(company='caustaza', edgedriver_path = r'C:\\Users\\G5\\Downloads\\edgedriver_win64\\msedgedriver.exe', email='mohamedomarsohnoon@gmail.com', password='', N=5):\n",
    "    # Set up Edge options \n",
    "    edge_options = Options()\n",
    "    edge_options.use_chromium = True  # Ensure you're using the Chromium version of Edge\n",
    "    edge_options.add_argument('--no-sandbox')\n",
    "    \n",
    "    # Set up the Edge service\n",
    "    edge_service = Service(executable_path=edgedriver_path)\n",
    "        \n",
    "    # Initialize WebDriver\n",
    "    driver = webdriver.Edge(service=edge_service, options=edge_options)\n",
    "    \n",
    "    # Open a website\n",
    "    url = 'https://www.facebook.com/'+company\n",
    "    driver.get(url)\n",
    "    time.sleep(5)\n",
    "    \n",
    "    # Sign in\n",
    "    email_tag = driver.find_element(By.CSS_SELECTOR, 'input.x1i10hfl xggy1nq x1s07b3s x1kdt53j x1a2a7pz xjbqb8w x1ejq31n xd10rxx x1sy0etr x17r0tee x9f619 xzsf02u x1uxerd5 x1fcty0u x132q4wb x1a8lsjc x1pi30zi x1swvt13 x9desvi xh8yej3 x15h3p50 x10emqs4'.replace(' ', '.'))\n",
    "    email_tag.send_keys(email)\n",
    "    password_ = driver.find_elements(By.CSS_SELECTOR, 'input.x1i10hfl xggy1nq x1s07b3s x1kdt53j x1a2a7pz xjbqb8w x1ejq31n xd10rxx x1sy0etr x17r0tee x9f619 xzsf02u x1uxerd5 x1fcty0u x132q4wb x1a8lsjc x1pi30zi x1swvt13 x9desvi xh8yej3 x15h3p50 x10emqs4'.replace(' ', '.'))[1]\n",
    "    password_.send_keys(password)\n",
    "    button = driver.find_element(By.CSS_SELECTOR, '.x1n2onr6 x1ja2u2z x78zum5 x2lah0s xl56j7k x6s0dn4 xozqiw3 x1q0g3np xi112ho x17zwfj4 x585lrc x1403ito x972fbf xcfux6l x1qhh985 xm0m39n x9f619 xn6708d x1ye3gou xtvsq51 x1fq8qgq'.replace(' ', '.'))\n",
    "    button.click()\n",
    "    print(\"logging in...\")\n",
    "    time.sleep(25)\n",
    "\n",
    "    # Scrape\n",
    "    comments=[]\n",
    "    for i in range(N):\n",
    "        driver.execute_script(\"window.scrollTo(0, document.body.scrollHeight);\")\n",
    "        time.sleep(5)\n",
    "    buttons = driver.find_elements(By.CSS_SELECTOR, '.x193iq5w xeuugli x13faqbe x1vvkbs x1xmvt09 x1lliihq x1s928wv xhkezso x1gmr53x x1cpjm7i x1fgarty x1943h6x xudqn12 x3x7a5m x6prxxf xvq8zen xo1l8bm xi81zsa'.replace(' ', '.'))\n",
    "    comment_buttons = [e for e in buttons if 'comment' in e.text]\n",
    "    print(len(comment_buttons))\n",
    "    for comment_button in comment_buttons:\n",
    "        for i in range(5):\n",
    "            try:\n",
    "                comment_button.click()\n",
    "                time.sleep(3)\n",
    "                # Switch to the comments frame\n",
    "                comments_elements = driver.find_elements(By.CSS_SELECTOR, '.x1lliihq.xjkvuk6.x1iorvi4')\n",
    "                print(len(comments_elements))\n",
    "                comments.extend([e.text for e in comments_elements])\n",
    "                exit = driver.find_element(By.CSS_SELECTOR, '.x1i10hfl x1ejq31n xd10rxx x1sy0etr x17r0tee x1ypdohk xe8uvvx xdj266r x11i5rnm xat24cr x1mh8g0r x16tdsg8 x1hl2dhg xggy1nq x87ps6o x1lku1pv x1a2a7pz x6s0dn4 xzolkzo x12go9s9 x1rnf11y xprq8jg x972fbf xcfux6l x1qhh985 xm0m39n x9f619 x78zum5 xl56j7k xexx8yu x4uap5 x18d9i69 xkhd6sd x1n2onr6 xc9qbxq x14qfxbe x1qhmfi1'.replace(' ', '.'))\n",
    "                exit.click()\n",
    "                break\n",
    "            except(ElementClickInterceptedException, StaleElementReferenceException):\n",
    "                time.sleep(2)\n",
    "    \n",
    "    print(f'Comments count: {len(comments)}')\n",
    "    #save comments to a dataframe\n",
    "    df = pd.DataFrame({'comment':comments})\n",
    "    df.to_csv(f'data/{company}_facebook_comments.csv', index=False)\n",
    "    print('Comments saved successfully!')\n",
    "    print(df.sample(10))\n",
    "    driver.close()"
   ]
  },
  {
   "cell_type": "code",
   "execution_count": 94,
   "id": "a925257e-a033-45cd-952b-77443f1d86d0",
   "metadata": {},
   "outputs": [
    {
     "name": "stdout",
     "output_type": "stream",
     "text": [
      "logging in...\n",
      "21\n",
      "37\n",
      "37\n",
      "35\n",
      "36\n",
      "36\n",
      "35\n",
      "36\n",
      "35\n",
      "33\n",
      "33\n",
      "32\n",
      "31\n",
      "31\n",
      "31\n",
      "30\n",
      "31\n",
      "Comments count: 539\n",
      "Comments saved successfully!\n",
      "                                               comment\n",
      "494  I wish the heck( I would use a much stronger w...\n",
      "199  @MicrosoftHelps can someone PLEASE call me bac...\n",
      "258  Very informative as always. Have a nice rest o...\n",
      "228  I was on support today for more than seven hou...\n",
      "78   Microsoft keeps trying to send me a Teams Surv...\n",
      "459  @MicrosoftHelps can someone PLEASE call me bac...\n",
      "64   Very informative as always. Have a nice rest o...\n",
      "154  Very informative as always. Have a nice rest o...\n",
      "108                                                   \n",
      "111  Technical question: How much did the photograp...\n"
     ]
    }
   ],
   "source": [
    "scrape_from_facebook(company='microsoft', password='')"
   ]
  },
  {
   "cell_type": "code",
   "execution_count": null,
   "id": "e9c23f0d-7236-4126-af04-a94c3d28bcc0",
   "metadata": {},
   "outputs": [],
   "source": [
    "def scrape_all_from_facebook(companies=companies):\n",
    "    for company in tqdm(companies):\n",
    "        scrape_from_facebook(company=company)"
   ]
  }
 ],
 "metadata": {
  "kernelspec": {
   "display_name": "Python 3 (ipykernel)",
   "language": "python",
   "name": "python3"
  },
  "language_info": {
   "codemirror_mode": {
    "name": "ipython",
    "version": 3
   },
   "file_extension": ".py",
   "mimetype": "text/x-python",
   "name": "python",
   "nbconvert_exporter": "python",
   "pygments_lexer": "ipython3",
   "version": "3.12.3"
  }
 },
 "nbformat": 4,
 "nbformat_minor": 5
}
